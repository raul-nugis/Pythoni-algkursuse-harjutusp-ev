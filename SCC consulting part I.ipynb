{
 "cells": [
  {
   "cell_type": "markdown",
   "metadata": {},
   "source": [
    "<img align=\"center\" src=\"https://lh3.googleusercontent.com/pw/AM-JKLWZSqeSpEOt22BHwx42V-HQBnmN5p3QTwRRU4rnwhm2hSZ8nU4n0dJZAKsON5j_2uOvfmYppPrHlSYmo6tD64s4GOIJD-q0A72C5yUYbmEtfG6HwCaVkBEorpMCbCcPzmIrFUQeJzwIfOBwApExIKJe=w247-h332-no?authuser=0\" alt=\"image info\" />"
   ]
  },
  {
   "cell_type": "markdown",
   "metadata": {},
   "source": [
    "# Analüütiku töö ettevõttes SCC\n",
    "\n",
    "SCC on startupilik ja agiilne ettevõte, kes püüab ennast positsioneerida konsulatsioonide turul. Algus on raske, kuid teie ja teie väiksearvulised töökaaslased ei jäta jonni. SCC ees avaneb võimalus näidata ennast heast küljest ja saada tööreferentsi, kui nõustamisturu liider ULMK hakkab sisenema restruktureerimisfaasi. Selle baasil moodustatavate uute ettevõtete loomisel otsitakse konsultanti. Konsultantide seas ei taha  seda tööd eriti keegi, kuid SCC on valmis seda tegema.\n",
    "\n",
    "Olukorraga tutvumine paljastab, et konsultatsioonide suurettevõtte ULMK partnerid otsustasid ettevõttest eralduda ja eraldada sellest välja eri ettevõtted ning töötajad. Paraku ULMK IT tugi on maas ja eralduvate ettevõtete töötajate kohta ei ole rohkemat informatsiooni kui koosolekutel koostatud nimekirjad.\n",
    "\n",
    "Esimese ülesandena palutakse teil koostada uute töötajate jaoks meiliaadressid ettevõtete lõikes."
   ]
  },
  {
   "cell_type": "markdown",
   "metadata": {},
   "source": [
    "<img align=\"right\" src=\"https://lh3.googleusercontent.com/pw/AM-JKLWZSqeSpEOt22BHwx42V-HQBnmN5p3QTwRRU4rnwhm2hSZ8nU4n0dJZAKsON5j_2uOvfmYppPrHlSYmo6tD64s4GOIJD-q0A72C5yUYbmEtfG6HwCaVkBEorpMCbCcPzmIrFUQeJzwIfOBwApExIKJe=w247-h332-no?authuser=0\" alt=\"image info\" width=\"100\" height=\"100\"/>\n",
    "\n",
    "# Teksti töötlus\n",
    "\n",
    "## Esimene osa\n",
    "\n",
    "\n",
    "On olemas list (loend) \"random names\", mis koosneb töötajatest ja firmade nimedest, mis on stringid, eraldatud komaga ning on üldiselt pigem ühtsel kujul.<p>\n",
    "Näide:<b>\n",
    "'Tammy Soldner,AS Pirukad'\n",
    "</b>\n",
    "<p>On vaja luua e-posti aadressid kujul: <b>eesnimi</b>.<b>perekonnanimi</b>@<b>ettevõtte-arvatav-domeen</b>.ee\n",
    "    \n",
    "    tammy.soldner@pirkad.ee\n"
   ]
  },
  {
   "cell_type": "markdown",
   "metadata": {},
   "source": [
    "<i>Harjutus: tükelda sõnadeks </i>\n",
    "\n",
    "<i>Mis on saadud andmestruktuuri tüüp? </i>\n",
    "\n",
    "<i>Kas sellest andmestruktuurist saab elemendid kätte? </i>\n",
    "\n",
    "<b>raskustase: keskmine,\n",
    "aeg: 25 minutit</b>"
   ]
  },
  {
   "cell_type": "code",
   "execution_count": null,
   "metadata": {},
   "outputs": [],
   "source": [
    "random_names = ['Thao Flott,AS Nutikad Lahendused',\n",
    "                 'Joan Mccormick,AS Nutikad Lahendused',\n",
    "                 'Louise Mills,OÜ Üleaedne',\n",
    "                 'Stanley Pollard,OÜ Üleaedne',\n",
    "                 'Paul Hernandez,Pika Mõtte Koda Sihtasutus',\n",
    "                 'Randolph Lobe,OÜ Üleaedne',\n",
    "                 'Isabel Glover,Pika Mõtte Koda Sihtasutus',\n",
    "                 'Sean Harp,AS Nutikad Lahendused',\n",
    "                 'Rachel Springer,Edukas AS',\n",
    "                 'Kimberly Kirk,AS Nutikad Lahendused',\n",
    "                 'Robert Marsh,Kakuke Osaühing',\n",
    "                 'Tyrone Macias,Pika Mõtte Koda Sihtasutus',\n",
    "                 'Joe Easton,Kakuke Osaühing',\n",
    "                 'Caitlyn Arteaga,',\n",
    "                 'Jeanette Brennan,',\n",
    "                 'Blythe Mathews,',\n",
    "                 'Jean Rasmussen,Kakuke Osaühing']\n",
    "print(random_names)"
   ]
  },
  {
   "cell_type": "code",
   "execution_count": null,
   "metadata": {},
   "outputs": [],
   "source": []
  },
  {
   "cell_type": "markdown",
   "metadata": {},
   "source": [
    "<img align=\"right\" src=\"https://lh3.googleusercontent.com/pw/AM-JKLWZSqeSpEOt22BHwx42V-HQBnmN5p3QTwRRU4rnwhm2hSZ8nU4n0dJZAKsON5j_2uOvfmYppPrHlSYmo6tD64s4GOIJD-q0A72C5yUYbmEtfG6HwCaVkBEorpMCbCcPzmIrFUQeJzwIfOBwApExIKJe=w247-h332-no?authuser=0\" alt=\"image info\" width=\"100\" height=\"100\"/>\n",
    "\n",
    "# Teksti töötlus\n",
    "\n",
    "## Teine osa\n",
    "\n",
    "Taaskasutades eelmist koodi lugeda nimekiri sisse CSV failist \n",
    "\n",
    "<b>\"firma_nimed.csv\"</b>\n",
    "\n",
    "ja salvestada tulemused andmetöötluse järel CSV tulemusfaili\n",
    "\n",
    "<b>\"meiliaadressid.csv\"</b>"
   ]
  },
  {
   "cell_type": "markdown",
   "metadata": {},
   "source": [
    "## Fali lugemine\n",
    "\n",
    "Failist rida-realt lugemine loendisse (listi)\n",
    "<p>(listist) loendist rida-realt kirjutamine faili\n",
    "\n",
    "<b>raskustase: lihtne,\n",
    "aeg: 15 minutit</b>"
   ]
  },
  {
   "cell_type": "code",
   "execution_count": 3,
   "metadata": {},
   "outputs": [],
   "source": [
    "# teise osa spikker 1\n",
    "\n",
    "''' Faili lugemine '''\n",
    "\n",
    "# https://stackoverflow.com/questions/3277503/how-to-read-a-file-line-by-line-into-a-list\n",
    "\n",
    "with open(filename) as file:\n",
    "    lines = file.readlines()"
   ]
  },
  {
   "cell_type": "code",
   "execution_count": 4,
   "metadata": {},
   "outputs": [],
   "source": [
    "# teise osa spikker 2\n",
    "\n",
    "'''Faili kirjutamine'''\n",
    "\n",
    "# https://stackoverflow.com/questions/899103/writing-a-list-to-a-file-with-python/899176\n",
    "\n",
    "with open('your_file.txt', 'w') as f:\n",
    "    for item in my_list:\n",
    "        f.write(\"%s\\n\" % item)"
   ]
  },
  {
   "cell_type": "code",
   "execution_count": null,
   "metadata": {},
   "outputs": [],
   "source": []
  },
  {
   "cell_type": "markdown",
   "metadata": {},
   "source": [
    "<img align=\"right\" src=\"https://lh3.googleusercontent.com/pw/AM-JKLWZSqeSpEOt22BHwx42V-HQBnmN5p3QTwRRU4rnwhm2hSZ8nU4n0dJZAKsON5j_2uOvfmYppPrHlSYmo6tD64s4GOIJD-q0A72C5yUYbmEtfG6HwCaVkBEorpMCbCcPzmIrFUQeJzwIfOBwApExIKJe=w247-h332-no?authuser=0\" alt=\"image info\" width=\"100\" height=\"100\"/>\n",
    "\n",
    "# Teksti töötlus\n",
    "\n",
    "## Kolmas osa\n",
    "\n",
    "<b>Exception handling </b>\n",
    "\n",
    "Tekitada vigade kinnipüüdmise töövoog  ja suunata see kõrvale manuaalseks töötluseks, moodustades selleks eraldi fail\n",
    "\n",
    "<b>\"HR_manuaalne.csv\"</b>\n",
    "\n",
    "\n",
    "<b>raskustase: lihtne,\n",
    "aeg: 10 minutit</b>"
   ]
  },
  {
   "cell_type": "markdown",
   "metadata": {},
   "source": [
    "## try-except\n",
    "\n",
    "<img src=\"https://lh3.googleusercontent.com/pw/AM-JKLUFKS6VViDg0Y2ASYz335jB_G7oJk8_iLKkHdq_lS7ZSKaGt8_N0t_1RpWKr8qmlBkLrNtByhbQzXIrFQ6IybCdKhOjDJYpsUWToC0uqEhqS6srw4DL74jwW_GyyiLOR8uwlCDx8t-A0AKTBKKY_da5=w742-h174-no?authuser=0\" alt=\"image info\" />"
   ]
  },
  {
   "cell_type": "code",
   "execution_count": null,
   "metadata": {},
   "outputs": [],
   "source": []
  }
 ],
 "metadata": {
  "kernelspec": {
   "display_name": "Python 3",
   "language": "python",
   "name": "python3"
  },
  "language_info": {
   "codemirror_mode": {
    "name": "ipython",
    "version": 3
   },
   "file_extension": ".py",
   "mimetype": "text/x-python",
   "name": "python",
   "nbconvert_exporter": "python",
   "pygments_lexer": "ipython3",
   "version": "3.8.5"
  }
 },
 "nbformat": 4,
 "nbformat_minor": 4
}
