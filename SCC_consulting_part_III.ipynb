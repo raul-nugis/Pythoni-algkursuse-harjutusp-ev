{
  "cells": [
    {
      "cell_type": "markdown",
      "metadata": {
        "id": "Ly-ENLwHNj7h"
      },
      "source": [
        "<img align=\"center\" src=\"https://lh3.googleusercontent.com/pw/AM-JKLWZSqeSpEOt22BHwx42V-HQBnmN5p3QTwRRU4rnwhm2hSZ8nU4n0dJZAKsON5j_2uOvfmYppPrHlSYmo6tD64s4GOIJD-q0A72C5yUYbmEtfG6HwCaVkBEorpMCbCcPzmIrFUQeJzwIfOBwApExIKJe=w247-h332-no?authuser=0\" alt=\"image info\" />"
      ]
    },
    {
      "cell_type": "markdown",
      "source": [
        "# AI to help"
      ],
      "metadata": {
        "id": "TZpG0zS1QpQv"
      }
    },
    {
      "cell_type": "markdown",
      "metadata": {
        "id": "O3e8twGtNj7i"
      },
      "source": [
        "Tänu sealhulgas teie pingutustele läheb ettevõttel järjest paremini. Mõne kuuga on kogunenud mitusada sotsiaalmeediapostitust, mida levitas eeskätt marketingiosakond. Teilt palutakse teha erinevaid kokkuvõtteid, sealhulgas leida, kes on enim nimetatud ettevõtte töötajad, mis on postitustest läbi käinud tööstusharud, teemad, koostööparnerid, jne.\n",
        "\n",
        "Teile ulatatakse mahukas tekstitabel postitustega, mida on Facebookis avaldatud - kuid sellel ei ole ei hashtage, ülesmärgitud (tagged) töötajate nimesid, mitte midagi sellist, mida saab kohe statistika tegemiseks kasutada. Pärast mõneminutilist paussi tekib teil mõte võtta kasutusele ChatGPT ja küsida need küsimused ära! Kuna tabel on mahukas - postitusi on sadu kui mitte tuhandeid - soovite te seda teha API kaudu."
      ]
    },
    {
      "cell_type": "markdown",
      "metadata": {
        "id": "5rfjXCKKNj7i"
      },
      "source": [
        "### Soojenduseks\n",
        "\n",
        "&emsp; 0. Harjutusülesanded, kus kasutati API-d märkimikust \"SCC consulting part II\"\n",
        "\n",
        "<b>raskustase: keskmine,\n",
        "aeg: 30 minutit</b>"
      ]
    },
    {
      "cell_type": "code",
      "source": [
        "# harjutuse peamine spikker\n",
        "\n",
        "# https://platform.openai.com/docs/api-reference/chat/create?lang=python\n",
        "\n",
        "import os\n",
        "import openai\n",
        "openai.api_key = os.getenv(\"OPENAI_API_KEY\")\n",
        "openai.Completion.create(\n",
        "  model=\"text-davinci-003\",\n",
        "  prompt=\"Say this is a test\",\n",
        "  max_tokens=7,\n",
        "  temperature=0\n",
        ")\n",
        "\n",
        "# harjutuse täiendav spikker\n",
        "\n",
        "{\n",
        "  \"id\": \"cmpl-uqkvlQyYK7bGYrRHQ0eXlWi7\",\n",
        "  \"object\": \"text_completion\",\n",
        "  \"created\": 1589478378,\n",
        "  \"model\": \"text-davinci-003\",\n",
        "  \"choices\": [\n",
        "    {\n",
        "      \"text\": \"\\n\\nThis is indeed a test\",\n",
        "      \"index\": 0,\n",
        "      \"logprobs\": null,\n",
        "      \"finish_reason\": \"length\"\n",
        "    }\n",
        "  ],\n",
        "  \"usage\": {\n",
        "    \"prompt_tokens\": 5,\n",
        "    \"completion_tokens\": 7,\n",
        "    \"total_tokens\": 12\n",
        "  }\n",
        "}\n"
      ],
      "metadata": {
        "id": "uUplh2RjTABV"
      },
      "execution_count": null,
      "outputs": []
    },
    {
      "cell_type": "markdown",
      "source": [
        "# Tables"
      ],
      "metadata": {
        "id": "kB3bl2MUEcE0"
      }
    },
    {
      "cell_type": "markdown",
      "source": [
        "Kuigi seni on töötlus käinud enamasti CSV failidena, ootavad nii kliendid kui ka ettevõtte sisepartnerid eeskätt tabeliformaadi tulemeid. Peale mõningase guugeldamise avastate te \"Pandas\" nimelise \"pakendi\", mis lubab läbi viia nii andmete sisestuse kui ka väljastuse kontoritöötaja sõbralikus MS Exceli formaadis.\n",
        "\n",
        "<b>raskustase: raske,\n",
        "aeg: 45 minutit</b>"
      ],
      "metadata": {
        "id": "DlI502TWEmOi"
      }
    }
  ],
  "metadata": {
    "kernelspec": {
      "display_name": "Python 3",
      "language": "python",
      "name": "python3"
    },
    "language_info": {
      "codemirror_mode": {
        "name": "ipython",
        "version": 3
      },
      "file_extension": ".py",
      "mimetype": "text/x-python",
      "name": "python",
      "nbconvert_exporter": "python",
      "pygments_lexer": "ipython3",
      "version": "3.8.5"
    },
    "colab": {
      "provenance": []
    }
  },
  "nbformat": 4,
  "nbformat_minor": 0
}