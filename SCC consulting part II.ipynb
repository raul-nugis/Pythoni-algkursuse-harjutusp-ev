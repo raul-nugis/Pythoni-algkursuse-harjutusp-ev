{
 "cells": [
  {
   "cell_type": "markdown",
   "metadata": {},
   "source": [
    "<img align=\"center\" src=\"https://lh3.googleusercontent.com/pw/AM-JKLWZSqeSpEOt22BHwx42V-HQBnmN5p3QTwRRU4rnwhm2hSZ8nU4n0dJZAKsON5j_2uOvfmYppPrHlSYmo6tD64s4GOIJD-q0A72C5yUYbmEtfG6HwCaVkBEorpMCbCcPzmIrFUQeJzwIfOBwApExIKJe=w247-h332-no?authuser=0\" alt=\"image info\" />"
   ]
  },
  {
   "cell_type": "markdown",
   "metadata": {},
   "source": [
    "Samal ajal kui Äripäev jätkab nõustamissuurettevõtte UMLK lagunemise draama kajastamist püsite teie koos SCC väikse meeskonnaga moodustavate uute ettevõtete abistamisel"
   ]
  },
  {
   "cell_type": "markdown",
   "metadata": {},
   "source": [
    "### Soojenduseks\n",
    "\n",
    "0. Tick Tack Toe harjutusülesanne vastavalt Edube Essentials Õppeprojektile\n",
    "\n",
    "NB: Abiks mitmeosaline video lahenduskäiguga ning lahendust sisaldava notebookiga\n",
    "\n",
    "<b>raskustase: väga raske,\n",
    "aeg: 90 minutit</b>"
   ]
  },
  {
   "cell_type": "code",
   "execution_count": null,
   "metadata": {},
   "outputs": [],
   "source": []
  },
  {
   "cell_type": "markdown",
   "metadata": {},
   "source": [
    "<img align=\"right\" src=\"https://lh3.googleusercontent.com/pw/AM-JKLWZSqeSpEOt22BHwx42V-HQBnmN5p3QTwRRU4rnwhm2hSZ8nU4n0dJZAKsON5j_2uOvfmYppPrHlSYmo6tD64s4GOIJD-q0A72C5yUYbmEtfG6HwCaVkBEorpMCbCcPzmIrFUQeJzwIfOBwApExIKJe=w247-h332-no?authuser=0\" alt=\"image info\" width=\"100\" height=\"100\"/>\n",
    "\n",
    "# Where is my code?\n",
    "### Analüütiku töö ettevõttes SCC\n",
    "\n",
    "Arvukate UMKL järelkäijate abistamise käigus olete kirjutanud omajagu Pythoni koodi, mida tahate nüüd taaskasutama hakata selliselt, et ei peaks suuri koodiblokke enam copy-paste'ma."
   ]
  },
  {
   "cell_type": "markdown",
   "metadata": {},
   "source": [
    "1. Kasutades tekstitöötluse  harjutuse materjale koondame valmis tehtud funktsioonid enda moodulisse\n",
    "\n",
    "<b>raskustase: lihtne,\n",
    "aeg: 10 minutit</b>"
   ]
  },
  {
   "cell_type": "code",
   "execution_count": null,
   "metadata": {},
   "outputs": [],
   "source": []
  },
  {
   "cell_type": "markdown",
   "metadata": {},
   "source": [
    "<img align=\"right\" src=\"https://lh3.googleusercontent.com/pw/AM-JKLWZSqeSpEOt22BHwx42V-HQBnmN5p3QTwRRU4rnwhm2hSZ8nU4n0dJZAKsON5j_2uOvfmYppPrHlSYmo6tD64s4GOIJD-q0A72C5yUYbmEtfG6HwCaVkBEorpMCbCcPzmIrFUQeJzwIfOBwApExIKJe=w247-h332-no?authuser=0\" alt=\"image info\" width=\"100\" height=\"100\"/>\n",
    "\n",
    "# Who is spying? \n",
    "### Analüütiku töö ettevõttes SCC\n",
    "\n",
    "Jätkate uute äriühingute UMKL kildudest kokkupanemist. Moodustatavate ettevõtete IT kaebas teile, et segadust ja vaidlusi on palju, ning et keegi olevat paigaldanud kuhugi pilukaamera, et pildistada, millised vana UMLK töötajad on mõnes rivaalitsevas ettevõttes vestlusel käinud. Paraku see väidetav kaamera on väga väike ning kasutab Guest Wifi kusagil suurel vastuvõtuterritooriumil. \n",
    "\n",
    "Pidades nõu SCC teiste analüütikutega leiate te Googlest üles kasuliku koodinäite."
   ]
  },
  {
   "cell_type": "markdown",
   "metadata": {},
   "source": [
    "2. Kasutades valmistehtud moodulist kättesaadavaid funktsioone ja google't uurime faili <b>'dhcp_log.csv'</b>\n",
    "\n",
    "Selgitame välja, millised arvutid (seadmed, telefonid, \"nutikad\" jne) on nende tootja uurimisel  kahtlust äratavad (võimalikud nn \"spiooniseadmed\", kaamerad jne)\n",
    "\n",
    "<b>raskustase: lihtne,\n",
    "aeg: 30 minutit</b>"
   ]
  },
  {
   "cell_type": "code",
   "execution_count": null,
   "metadata": {},
   "outputs": [],
   "source": [
    "# harjutuse 2 spikker\n",
    "\n",
    "'''howto:\n",
    "https://macvendors.co/api/python'''\n",
    "\n",
    "import urllib.request as urllib2\n",
    "import json\n",
    "import codecs\n",
    "\n",
    "#API base url,you can also use https if you need\n",
    "url = \"http://macvendors.co/api/\"\n",
    "#Mac address to lookup vendor from\n",
    "mac_address = \"BC:92:6B:A0:00:01\"\n",
    "\n",
    "request = urllib2.Request(url+mac_address, headers={'User-Agent' : \"API Browser\"}) \n",
    "response = urllib2.urlopen( request )\n",
    "#Fix: json object must be str, not 'bytes'\n",
    "reader = codecs.getreader(\"utf-8\")\n",
    "obj = json.load(reader(response))\n",
    "\n",
    "#Print company name\n",
    "print (obj['result']['company']+\"<br/>\");\n",
    "\n",
    "#print company address\n",
    "print (obj['result']['address']);"
   ]
  },
  {
   "cell_type": "code",
   "execution_count": null,
   "metadata": {},
   "outputs": [],
   "source": []
  },
  {
   "cell_type": "markdown",
   "metadata": {},
   "source": [
    "<img align=\"right\" src=\"https://lh3.googleusercontent.com/pw/AM-JKLWZSqeSpEOt22BHwx42V-HQBnmN5p3QTwRRU4rnwhm2hSZ8nU4n0dJZAKsON5j_2uOvfmYppPrHlSYmo6tD64s4GOIJD-q0A72C5yUYbmEtfG6HwCaVkBEorpMCbCcPzmIrFUQeJzwIfOBwApExIKJe=w247-h332-no?authuser=0\" alt=\"image info\" width=\"100\" height=\"100\"/>\n",
    "\n",
    "# Why am I cold? - part I\n",
    "\n",
    "### Analüütiku töö ettevõttes SCC\n",
    "\n",
    "\n",
    "Ootamatu arenguna lepivad vana UMLK partnerid omavahel ära ja ettevõtted tulevad tagasi ühise katuse alla. \n",
    "\n",
    "Taasühinenud UMLK-s valmistatakse ette pakkumus energeetikaturgude strateegiliseks nõustamiseks. Kohtumisel kliendiga soovitakse näidata, et UMLK on kaasaegne ja digitaalne. Ettevõtete partnerid, keda SCC ei ole vahepealsel turbulentsetel aegadel nõustanud, on skeptilised, et te saate abiks olla niivõrd keerulises valdkonnas, kuid teised veenavad need ümber. Teid kutsutakse appi võimaldamaks maagaasi, keskütte ja elektri turgude andmete kasutamist liidestuste kaudu. Teil on vaja valmistada ette funktsioonid, millega saate teha energiaturgude päringuid.\n",
    "\n",
    "Pidades nõu kolleegidega leiate te ühe huvitava dokumendi ja asute selle kallal tööle!"
   ]
  },
  {
   "cell_type": "markdown",
   "metadata": {},
   "source": [
    "3 (1). Kasutades https://dashboard.elering.ee/assets/api-doc.html#/ ja Googlet valmistage ette funktsioonid Põhja Tallinna keskkütte, maagaasi ja elektri hindade pärimiseks\n",
    "\n",
    "<b>raskustase: keskmine,\n",
    "aeg: 40 minutit</b>"
   ]
  },
  {
   "cell_type": "code",
   "execution_count": null,
   "metadata": {},
   "outputs": [],
   "source": []
  },
  {
   "cell_type": "markdown",
   "metadata": {},
   "source": [
    "<img align=\"right\" src=\"https://lh3.googleusercontent.com/pw/AM-JKLWZSqeSpEOt22BHwx42V-HQBnmN5p3QTwRRU4rnwhm2hSZ8nU4n0dJZAKsON5j_2uOvfmYppPrHlSYmo6tD64s4GOIJD-q0A72C5yUYbmEtfG6HwCaVkBEorpMCbCcPzmIrFUQeJzwIfOBwApExIKJe=w247-h332-no?authuser=0\" alt=\"image info\" width=\"100\" height=\"100\"/>\n",
    "\n",
    "# Why am I cold? - part II\n",
    "\n",
    "### Analüütiku töö ettevõttes SCC\n",
    "\n",
    "Teie varasema tööga ettevõtete konsulteerimisel ollakse niivõrd rahul, et kui UMLP võidab nõustaja töö 1.7 miljardi suuruse lepingu juures, palgatakse teid ja SCC alltöövõtjaks.\n",
    "\n",
    "Riigi ja Euroopa Liidu vahenditega viiakse osa elamufondi üle nutikamatale küttelahendustele. Küttelahendusteks sobivad ainult uued eluhooned. Teile antakse 2016 ja 2020 vahel riigis valminud eluhoonete nimekirja ja palutakse moodustada nutikaks kütteks sobivad kvartalid. Kahjuks riigi ehitusregister kuvab küll hooneid, kuid ei sisalda mitte mingeid kvartalite andmeid. Pidades nõu küttevõrgu teadlastega otsustatakse lugeda kvartaliks kõik uued eluhooned, millel on vähemalt 2 korrust, mis asuvad vähemalt 100 m kaugusel ja millel on vähemalt 1500 m2 sisepinda.\n",
    "\n",
    "Võttes aluseks Tallinna Kopli piirkonna andmed peate te looma skripti, mille abil saab kahte hoonet kõrvutada eespool nimetatud tingimusi silmas pidades. Pidades teiste SCC analüütikutega nõu leiate te Googlest kasuliku koodinäite ja asute tööle."
   ]
  },
  {
   "cell_type": "markdown",
   "metadata": {},
   "source": [
    "3 (2). Kasutades valmistehtud moodulist kättesaadavaid funktsioone ja Google't uurime Kopli piirkonna uusimaid hooneid (ca 107 hoonet) ja koostame funktsioonid, mille abil saab öelda, kas hoone oleks osa uudseks küttelahenduseks sobivast kvartalist\n",
    "\n",
    "<b>raskustase: keskmine,\n",
    "aeg: 30 minutit</b>"
   ]
  },
  {
   "cell_type": "code",
   "execution_count": null,
   "metadata": {},
   "outputs": [],
   "source": [
    "# harjutus 3-2 spikker\n",
    "\n",
    "from geopy import distance\n",
    "\n",
    "# https://geopy.readthedocs.io/en/stable/#module-geopy.distance\n",
    "\n",
    "wellington = (-41.32, 174.81)\n",
    "salamanca = (40.96, -5.50)\n",
    "print(distance.distance(wellington, salamanca).km)"
   ]
  },
  {
   "cell_type": "code",
   "execution_count": null,
   "metadata": {},
   "outputs": [],
   "source": []
  },
  {
   "cell_type": "markdown",
   "metadata": {},
   "source": [
    "<img align=\"right\" src=\"https://lh3.googleusercontent.com/pw/AM-JKLWZSqeSpEOt22BHwx42V-HQBnmN5p3QTwRRU4rnwhm2hSZ8nU4n0dJZAKsON5j_2uOvfmYppPrHlSYmo6tD64s4GOIJD-q0A72C5yUYbmEtfG6HwCaVkBEorpMCbCcPzmIrFUQeJzwIfOBwApExIKJe=w247-h332-no?authuser=0\" alt=\"image info\" width=\"100\" height=\"100\"/>\n",
    "\n",
    "# Why am I cold? - part III\n",
    "\n",
    "### Analüütiku töö ettevõttes SCC\n",
    "\n",
    "Tiivustatuna varasematest katsetest jätkate te pingutusi ja soovite nüüd edastada UMLP-le riigi küttesüsteemi jaoks sobivad andmed."
   ]
  },
  {
   "cell_type": "markdown",
   "metadata": {},
   "source": [
    "3 (3). Kasutades varasemalt loodud funktsioone, koostage Põhja-Tallinna andmete baasil nn tingimustele vastavad kvartalid.\n",
    "Selleks läheb vaja <i>dictionary</i>'d. Lisage kvartalitele m2\n",
    "\n",
    "<b>raskustase: väga raske,\n",
    "aeg: 90 minutit</b>"
   ]
  },
  {
   "cell_type": "code",
   "execution_count": null,
   "metadata": {},
   "outputs": [],
   "source": []
  },
  {
   "cell_type": "markdown",
   "metadata": {},
   "source": [
    "<img align=\"right\" src=\"https://lh3.googleusercontent.com/pw/AM-JKLWZSqeSpEOt22BHwx42V-HQBnmN5p3QTwRRU4rnwhm2hSZ8nU4n0dJZAKsON5j_2uOvfmYppPrHlSYmo6tD64s4GOIJD-q0A72C5yUYbmEtfG6HwCaVkBEorpMCbCcPzmIrFUQeJzwIfOBwApExIKJe=w247-h332-no?authuser=0\" alt=\"image info\" width=\"100\" height=\"100\"/>\n",
    "\n",
    "# No pain, no gain!\n",
    "\n",
    "### Analüütiku töö ettevõttes SCC\n",
    "\n",
    "Klient on rahul UMLP tööga ja asub ettevõtte toel rahastusprogrammi elluviimist ette valmistama. UMLP käest küsitakse 10 riskinõustajat, kes aitaksid suurprojekti kestel korda pidada. Kui 10 nõustajat ei ole, tuleb esitada UMLP ekspertide CV-d ja nimetada ära, mitu riskikonsultanti veel puudu. \n",
    "\n",
    "See palve jõuab ettevõttesse kl 19:00 ja soovitakse järgmiseks hommikuks kl 09:15 esitada Euroopa Liidu energeetika peadirektoraadile asjakohase nimekirja. Vahepealsed draamad UMLP-is on sisuliselt kogu personali IT süsteemi halvanud. Ettevõttel on küll olemas töötajate CV-d, kuid neid on sisuliselt tuhandeid ja ülesanne paistab lootusetu. Kuna tänu varasemate ülesannete edukale lahendamisele peetakse teid võluriks, juhatus palub SCC abi.\n",
    "\n",
    "Küsimus tundub <i>straightforward</i> ja peale mõnemitulist ajaveetmist <i>stack overflow</i>-is on nimekiri spetsialistidest saadetud aadressile juhatus@umpl.ee"
   ]
  },
  {
   "cell_type": "markdown",
   "metadata": {},
   "source": [
    "4. faili-kaevake 50 lisatud CV hulgast spetsialistid, kellel on kogemusi \"Riski Business\" nimelises valdkonnas. Kopeerige CV-d eraldi kausta\n",
    "\n",
    "<b>raskustase: keskmine, aeg: 30 minutit</b>"
   ]
  },
  {
   "cell_type": "code",
   "execution_count": null,
   "metadata": {},
   "outputs": [],
   "source": [
    "# harjutus 4 spikker\n",
    "\n",
    "import glob\n",
    "\n",
    "# https://stackoverflow.com/questions/2186525/how-to-use-glob-to-find-files-recursively\n",
    "\n",
    "for f in glob.glob('/path/**/*.c', recursive=True):\n",
    "    print(f)"
   ]
  },
  {
   "cell_type": "code",
   "execution_count": null,
   "metadata": {},
   "outputs": [],
   "source": [
    "import zipfile\n",
    "\n",
    "# https://stackoverflow.com/questions/8844781/get-file-list-of-files-contained-in-a-zip-file\n",
    "\n",
    "# zip file handler  \n",
    "zip = zipfile.ZipFile('filename.zip')\n",
    "\n",
    "# list available files in the container\n",
    "print (zip.namelist())\n",
    "\n",
    "# extract a specific file from the zip container\n",
    "f = zip.open(\"file_inside_zip.txt\")\n",
    "\n",
    "# save the extraced file \n",
    "content = f.read()\n",
    "f = open('file_inside_zip.extracted.txt', 'wb')\n",
    "f.write(content)\n",
    "f.close()"
   ]
  },
  {
   "cell_type": "code",
   "execution_count": null,
   "metadata": {},
   "outputs": [],
   "source": [
    "# https://stackoverflow.com/questions/1274405/how-to-create-new-folder\n",
    "\n",
    "newpath = r'C:\\Program Files\\arbitrary' \n",
    "if not os.path.exists(newpath):\n",
    "    os.makedirs(newpath)"
   ]
  },
  {
   "cell_type": "code",
   "execution_count": null,
   "metadata": {},
   "outputs": [],
   "source": [
    "import shutil\n",
    "\n",
    "# https://stackoverflow.com/questions/123198/how-to-copy-files\n",
    "\n",
    "shutil.copyfile(src, dst)\n",
    "\n",
    "# 2nd option\n",
    "shutil.copy(src, dst)  # dst can be a folder; use shutil.copy2() to preserve timestamp"
   ]
  },
  {
   "cell_type": "markdown",
   "metadata": {},
   "source": [
    "<img align=\"right\" src=\"https://lh3.googleusercontent.com/pw/AM-JKLWZSqeSpEOt22BHwx42V-HQBnmN5p3QTwRRU4rnwhm2hSZ8nU4n0dJZAKsON5j_2uOvfmYppPrHlSYmo6tD64s4GOIJD-q0A72C5yUYbmEtfG6HwCaVkBEorpMCbCcPzmIrFUQeJzwIfOBwApExIKJe=w247-h332-no?authuser=0\" alt=\"image info\" width=\"100\" height=\"100\"/>\n",
    "\n",
    "# Market me away!\n",
    "\n",
    "### Analüütiku töö ettevõttes SCC\n",
    "\n",
    "Turuarengutest teadlike inimestena mõistavad UMLP managerid, et aeg saada pilti sellest, mitu kodumaist regionaalarenguks sobivat ehitusettevõtet on, kes sobiksid osalemaks erinevates ehitus- ja renoveerimisprogrammides, mille tulekut oodatakse. Selleks soovib UMLP osta Äriregistrist nende ettevõtete kontakt- ja finantsandmed. Teilt palutakse nimekirja, kes on ehitusettevõtted: 10 kuni 250 töötajaga, ja ei asu Tallinnas. Peale teatud järelemõtlemist ja guugeldamist leiate te alustuseks sobiva allika Eesti ettevõtete andmetega, et teha selles andmekaevet. "
   ]
  },
  {
   "cell_type": "markdown",
   "metadata": {},
   "source": [
    "5. veebi-kaevake Eesti ettevõtete (ca 130 tuhat) avalikke andmeid, koostage rahastusprogrammi valim või turunduskampaania jaoks ettevõtete valim\n",
    "\n",
    "<b>raskustase: keskmine, aeg: 45 minutit</b>"
   ]
  },
  {
   "cell_type": "code",
   "execution_count": null,
   "metadata": {},
   "outputs": [],
   "source": [
    "# harjutus 4 spikker\n",
    "\n",
    "# source = https://stackify.dev/403203-read-csv-file-directly-from-a-website-in-python-3\n",
    "\n",
    "import csv\n",
    "#import urllib.request as urllib # changed 10.02\n",
    "import urllib.request as urlRequest\n",
    "#import urllib.parse as urlParse # changed 10.02\n",
    "\n",
    "url = \"https://ncfailid.emta.ee/index.php/s/5Eeq9pzAmQtraJn/download/tasutud_maksud_2021_iv_kvartal.csv\"\n",
    "# https://www.emta.ee/ariklient/amet-uudised-ja-kontakt/uudised-pressiinfo-statistika/statistika-ja-avaandmed\n",
    "\n",
    "# pretend to be a chrome 47 browser on a windows 10 machine\n",
    "# headers = {\"User-Agent\": \"Mozilla/5.0 (Windows NT 10.0; WOW64) AppleWebKit/537.36 (KHTML, like Gecko) Chrome/47.0.2526.106 Safari/537.36\"}\n",
    "\n",
    "req = urlRequest.Request(url)#, headers = headers)\n",
    "# open the url \n",
    "x = urlRequest.urlopen(req)\n",
    "sourceCode = x.read().decode('cp1252') # changed 10.02\n",
    "\n",
    "'''\n",
    "cr = csv.DictReader(sourceCode.splitlines())\n",
    "l = [row['Series'] for row in cr]\n",
    "'''\n",
    "#### removed 10.02\n",
    "sourceCode.split('\\n')[0:3]"
   ]
  },
  {
   "cell_type": "markdown",
   "metadata": {},
   "source": [
    "# Kui polnud piisav\n",
    "\n",
    "6. eelmise harjutuse põhjal koostatud turunduskampaania valimi alusel hankige ettevõtete meiliaadressid ja valmistage ette spamm-filter kindel auto-mailer\n",
    "\n",
    "<b>raskustase: legendaarne, aeg: n/a minutit</b>\n",
    "    \n",
    "<b>alternatiiv</b> harjutusele 5:\n",
    "Lihtsam veebikaeve (Challenge II) - nagu One Drives\n",
    "\n",
    "<b>raskustase: keeruline, aeg: 45 minutit</b>"
   ]
  },
  {
   "cell_type": "code",
   "execution_count": null,
   "metadata": {},
   "outputs": [],
   "source": []
  }
 ],
 "metadata": {
  "kernelspec": {
   "display_name": "Python 3",
   "language": "python",
   "name": "python3"
  },
  "language_info": {
   "codemirror_mode": {
    "name": "ipython",
    "version": 3
   },
   "file_extension": ".py",
   "mimetype": "text/x-python",
   "name": "python",
   "nbconvert_exporter": "python",
   "pygments_lexer": "ipython3",
   "version": "3.8.5"
  }
 },
 "nbformat": 4,
 "nbformat_minor": 4
}
